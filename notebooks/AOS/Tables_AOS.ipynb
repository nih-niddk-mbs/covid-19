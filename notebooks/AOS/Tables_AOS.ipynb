{
 "cells": [
  {
   "cell_type": "code",
   "execution_count": 1,
   "metadata": {},
   "outputs": [],
   "source": [
    "import pandas as pd\n",
    "import numpy as np\n",
    "from pathlib import Path"
   ]
  },
  {
   "cell_type": "code",
   "execution_count": 2,
   "metadata": {},
   "outputs": [],
   "source": [
    "# Fix region names, remove underscore\n",
    "def fix_region_name(roi):\n",
    "    roi = roi.replace('_', ' ')\n",
    "    roi = ' '.join(roi.split(',')[::-1]).strip()\n",
    "    return roi"
   ]
  },
  {
   "cell_type": "markdown",
   "metadata": {},
   "source": [
    "## Insert table path, figures path, weekly timepoints, last week"
   ]
  },
  {
   "cell_type": "code",
   "execution_count": 3,
   "metadata": {},
   "outputs": [
    {
     "name": "stdout",
     "output_type": "stream",
     "text": [
      "Rt\n",
      "car\n",
      "ifr\n",
      "ir\n",
      "ar\n"
     ]
    }
   ],
   "source": [
    "# table_path = Path('/data/schwartzao/covid-sicr/tables/20210317/')\n",
    "# table_path = Path('/Users/schwartzao/Desktop/workspace/covid-sicr/tables/20210325/')\n",
    "table_path = Path('/Users/schwartzao/Desktop/20210325/')\n",
    "\n",
    "\n",
    "\n",
    "weeks = ['13', '30', '47']\n",
    "weeks_dates = ['April 19-25, 2020', 'August 16-22, 2020', 'December 13-19, 2020'] # FOR COLUMN LABELS\n",
    "\n",
    "last_week = 60 # use an int\n",
    "last_week_str = 'March 14-20, 2021'\n",
    "\n",
    "weeks_dates.append(last_week_str)\n",
    "\n",
    "\n",
    "df = pd.read_csv(table_path / \"fit_table_reweighted.csv\") \n",
    "\n",
    "df['roi'] = df['roi'].apply(fix_region_name)\n",
    "\n",
    "rois = list(df.roi.unique())\n",
    "\n",
    "roi_us = np.sort([i for i in rois if i[:2]=='US'])\n",
    "roi_other = np.sort([i for i in rois if i[:2]!='US'])\n",
    "\n",
    "roi_other = list(roi_other) # removing super regions for now\n",
    "roi_other = [x for x in roi_other if not x.startswith(\"AA\")]\n",
    "\n",
    "rois = list(roi_other) + list(roi_us)\n",
    "\n",
    "stats = ['Rt', 'car', 'ifr', 'ir', 'ar']\n",
    "for stat in stats:\n",
    "    print(stat)\n",
    "    df[f'{stat} {last_week_str}'] = 0\n",
    "    for roi in rois:\n",
    "        for wk in np.arange(last_week,0,-1):\n",
    "    #         print(f\"{stat} (week {wk})\")\n",
    "            if df.loc[df.roi==roi][f\"{stat} (week {wk})\"].notnull().values[0]:\n",
    "                for q in df['quantile'].unique():\n",
    "                    df.loc[(df.roi==roi)&(df['quantile']==q),[f'{stat} {last_week_str}']] = df.loc[(df.roi==roi)&(df['quantile']==q),[f\"{stat} (week {wk})\"]].values\n",
    "    #                 print(df.loc[(df.roi==roi)&(df['quantile']==q)]['Rt (May 24th)'].values)\n",
    "                break"
   ]
  },
  {
   "cell_type": "code",
   "execution_count": 4,
   "metadata": {},
   "outputs": [
    {
     "name": "stdout",
     "output_type": "stream",
     "text": [
      "['Rt (week 13)', 'Rt (week 30)', 'Rt (week 47)', 'car (week 13)', 'car (week 30)', 'car (week 47)', 'ifr (week 13)', 'ifr (week 30)', 'ifr (week 47)', 'ir (week 13)', 'ir (week 30)', 'ir (week 47)', 'ar (week 13)', 'ar (week 30)', 'ar (week 47)', 'Rt March 14-20, 2021', 'car March 14-20, 2021', 'ifr March 14-20, 2021', 'ir March 14-20, 2021', 'ar March 14-20, 2021']\n"
     ]
    }
   ],
   "source": [
    "theta = [stat + f' (week {week})' for stat in stats for week in weeks]\n",
    "theta_last = [stat + f' {last_week_str}' for stat in stats]\n",
    "theta_ = theta + theta_last\n",
    "\n",
    "theta_R = [x for x in theta_ if x.startswith(\"R\")]\n",
    "theta_car = [x for x in theta_ if x.startswith(\"car\")]\n",
    "theta_ifr = [x for x in theta_ if x.startswith(\"ifr\")]\n",
    "theta_ir = [x for x in theta_ if x.startswith(\"ir\")]\n",
    "theta_ar = [x for x in theta_ if x.startswith(\"ar\")]\n",
    "print(theta_)"
   ]
  },
  {
   "cell_type": "code",
   "execution_count": 5,
   "metadata": {},
   "outputs": [],
   "source": [
    "def afun1(x):\n",
    "    return '%s' % float('%.1g' %x)\n",
    "\n",
    "def afun2(x):\n",
    "    return '%s' % float('%.2g' %x)\n",
    "\n",
    "ir_col = [f\"IRt ({weeks_dates[0]}) (CI)\",\n",
    "          f\"IRt ({weeks_dates[1]}) (CI)\", \n",
    "          f\"IRt ({weeks_dates[2]}) (CI)\",\n",
    "          f\"IRt ({weeks_dates[3]}) (CI)\",\n",
    "         ]\n",
    "\n",
    "r_col = [f\"R0 (CI)\",\n",
    "         f\"Rt ({weeks_dates[0]}) (CI)\", \n",
    "         f\"Rt ({weeks_dates[1]}) (CI)\",\n",
    "         f\"Rt ({weeks_dates[2]}) (CI)\",\n",
    "         f\"Rt ({weeks_dates[3]}) (CI)\"\n",
    "        ]\n",
    "car_col  = [f\"CARt ({weeks_dates[0]}) (CI)\", \n",
    "          f\"CARt ({weeks_dates[1]}) (CI)\",\n",
    "          f\"CARt ({weeks_dates[2]}) (CI)\",\n",
    "          f\"CARt ({weeks_dates[3]}) (CI)\"\n",
    "         ]\n",
    "\n",
    "ifr_col = [f\"IFRt ({weeks_dates[0]}) (CI)\", \n",
    "          f\"IFRt ({weeks_dates[1]}) (CI)\", \n",
    "          f\"IFRt ({weeks_dates[2]}) (CI)\",\n",
    "          f\"IFRt ({weeks_dates[3]}) (CI)\"\n",
    "         ]\n",
    "\n",
    "ar_col = [f\"ARt ({weeks_dates[0]}) (CI)\",\n",
    "          f\"ARt ({weeks_dates[1]}) (CI)\", \n",
    "          f\"ARt ({weeks_dates[2]}) (CI)\",\n",
    "          f\"ARt ({weeks_dates[3]}) (CI)\"\n",
    "         ]\n",
    "\n",
    "stats = ['Rt', 'car', 'ifr', 'ir', 'ar']\n",
    "\n",
    "for stat in stats:\n",
    "    if stat == 'Rt':\n",
    "        theta_stat = [x for x in theta_ if x.startswith(\"R\")]\n",
    "        theta_stat.insert(0, \"R0\")\n",
    "        col = r_col\n",
    "\n",
    "    if stat == 'car':\n",
    "        theta_stat = [x for x in theta_ if x.startswith(\"car\")]\n",
    "        col = car_col\n",
    "    if stat == 'ifr':\n",
    "        theta_stat = [x for x in theta_ if x.startswith(\"ifr\")]\n",
    "        col = ifr_col\n",
    "\n",
    "    if stat == 'ir':\n",
    "        theta_stat = [x for x in theta_ if x.startswith(\"ir\")]\n",
    "        col = ir_col\n",
    "\n",
    "    if stat == 'ar':\n",
    "        theta_stat = [x for x in theta_ if x.startswith(\"ar\")]\n",
    "        col = ar_col\n",
    "    \n",
    "    rows = []\n",
    "    for roi in rois:\n",
    "        data = []\n",
    "        data.append(roi)\n",
    "        for i in range(len(theta_stat)):\n",
    "            theta = theta_stat[i]\n",
    "\n",
    "            mu = df.loc[(df.roi==roi)&(df['quantile']=='0.5'),theta].values[0]\n",
    "            lb = df.loc[(df.roi==roi)&(df['quantile']=='0.025'),theta].values[0]\n",
    "            ub = df.loc[(df.roi==roi)&(df['quantile']=='0.975'),theta].values[0]\n",
    "            if theta[0] == 'R':\n",
    "                x = afun2(mu)+\" (\"+afun2(lb)+\", \"+afun2(ub)+\")\"\n",
    "            else:\n",
    "                x = afun1(mu)+\" (\"+afun1(lb)+\", \"+afun1(ub)+\")\"\n",
    "                \n",
    "            data.append(x)\n",
    "        rows.append(data)\n",
    "\n",
    "        df_report = pd.DataFrame(rows, columns=['Region']+col)\n",
    "        df_report.to_csv(table_path / f\"{stat}_summary.csv\", index=False)"
   ]
  },
  {
   "cell_type": "markdown",
   "metadata": {},
   "source": [
    "## Report model contribution summaries"
   ]
  },
  {
   "cell_type": "code",
   "execution_count": 6,
   "metadata": {},
   "outputs": [],
   "source": [
    "last_week = str(last_week)\n",
    "\n",
    "df = pd.read_csv(table_path / 'fit_table_raw.csv', index_col=['model', 'roi', 'quantile'])\n",
    "df = df[~df.index.duplicated(keep='last')]\n",
    "df.columns.name = 'param'\n",
    "df = df.stack('param').unstack(['roi', 'quantile', 'param']).T\n",
    "\n",
    "last_week_stats = [x + f' (week {last_week})' for x in stats]\n",
    "ll_waic_loo_aic = ['ll_', 'waic', 'loo', 'aic', 'num weeks', 'num_params']\n",
    "\n",
    "rois = df.index.get_level_values('roi').unique()\n",
    "\n",
    "dfs = []\n",
    "for roi in rois:\n",
    "    ll_waic_loo_aic_stats = df.loc[(roi, 'mean', ll_waic_loo_aic)]\n",
    "    other_stats = df.loc[(roi, '0.5', last_week_stats)]\n",
    "    dfs.append(ll_waic_loo_aic_stats)\n",
    "    dfs.append(other_stats)\n",
    "    \n",
    "df_result = pd.concat(dfs)\n",
    "\n",
    "# report minimum values for ll, waic, loo, aic\n",
    "columns = [col for col in df if col.startswith('SICR')]\n",
    "df_result = df_result.assign(minimum = df_result[columns].min(axis=1), minimum_column=df_result[columns].idxmin(axis=1))\n",
    "\n",
    "df_result['outlier'] = ''\n",
    "for roi in rois:\n",
    "     # remove lowest value model values for non loo/waic/ll rows\n",
    "    df_result.loc[(roi, 'mean', last_week_stats), 'minimum_column'] = ''\n",
    "    df_result.loc[(roi, '0.5', last_week_stats), 'minimum_column'] = ''\n",
    "    # find outliers\n",
    "    if df_result.loc[(roi, '0.5', f'ir (week {last_week})'), \"SICRdiscrete4Nwk\"] > 0.9:\n",
    "        if df_result.loc[(roi, 'mean', 'loo'), \"minimum_column\"] == 'SICRdiscrete4Nwk':\n",
    "            print(\"possible outlier: \", roi)\n",
    "            df_result.loc[(roi, 'mean', 'loo'), \"outlier\"] = \"TRUE\"\n",
    "        \n",
    "df_result.to_csv(table_path / 'model_contributions_and_median_stats.csv')"
   ]
  },
  {
   "cell_type": "code",
   "execution_count": 83,
   "metadata": {},
   "outputs": [
    {
     "name": "stdout",
     "output_type": "stream",
     "text": [
      "model                           SICRdiscrete4Nwk        minimum  \\\n",
      "roi     quantile param                                            \n",
      "Andorra mean     ll_                52448.983772   52448.983772   \n",
      "                 loo                56787.730561   56787.730561   \n",
      "                 waic              107276.981765  107276.981765   \n",
      "                 num weeks             55.000000      55.000000   \n",
      "                 num_params            26.000000      26.000000   \n",
      "...                                          ...            ...   \n",
      "US_CO   0.5      Rt (week 60)           0.485934       0.485934   \n",
      "                 ar (week 60)      397923.992252  397923.992252   \n",
      "                 car (week 60)          0.245720       0.245720   \n",
      "                 ifr (week 60)          0.003253       0.003253   \n",
      "                 ir (week 60)           0.594705       0.594705   \n",
      "\n",
      "model                             minimum_column outlier  \n",
      "roi     quantile param                                    \n",
      "Andorra mean     ll_            SICRdiscrete4Nwk          \n",
      "                 loo            SICRdiscrete4Nwk          \n",
      "                 waic           SICRdiscrete4Nwk          \n",
      "                 num weeks      SICRdiscrete4Nwk          \n",
      "                 num_params     SICRdiscrete4Nwk          \n",
      "...                                          ...     ...  \n",
      "US_CO   0.5      Rt (week 60)                             \n",
      "                 ar (week 60)                             \n",
      "                 car (week 60)                            \n",
      "                 ifr (week 60)                            \n",
      "                 ir (week 60)                             \n",
      "\n",
      "[88 rows x 4 columns]\n"
     ]
    }
   ],
   "source": [
    "print(df_result)"
   ]
  },
  {
   "cell_type": "code",
   "execution_count": null,
   "metadata": {},
   "outputs": [],
   "source": []
  }
 ],
 "metadata": {
  "kernelspec": {
   "display_name": "Python 3",
   "language": "python",
   "name": "python3"
  },
  "language_info": {
   "codemirror_mode": {
    "name": "ipython",
    "version": 3
   },
   "file_extension": ".py",
   "mimetype": "text/x-python",
   "name": "python",
   "nbconvert_exporter": "python",
   "pygments_lexer": "ipython3",
   "version": "3.7.9"
  }
 },
 "nbformat": 4,
 "nbformat_minor": 2
}
