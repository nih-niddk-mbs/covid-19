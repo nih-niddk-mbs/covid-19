{
 "cells": [
  {
   "cell_type": "code",
   "execution_count": 188,
   "metadata": {},
   "outputs": [],
   "source": [
    "import numpy as np\n",
    "import pandas as pd\n",
    "from pathlib import Path"
   ]
  },
  {
   "cell_type": "markdown",
   "metadata": {},
   "source": [
    "## Define table path, stats, latest week"
   ]
  },
  {
   "cell_type": "code",
   "execution_count": 189,
   "metadata": {},
   "outputs": [],
   "source": [
    "# table_path = Path('/data/schwartzao/covid-sicr/tables/20210311_realtime/')\n",
    "table_path = Path('/Users/schwartzao/Desktop/workspace/covid-sicr/tables/20210311_realtime/')\n",
    "stats = ['R0', 'Rt', 'car', 'ifr', 'ir', 'ar']\n",
    "last_week = '58'"
   ]
  },
  {
   "cell_type": "code",
   "execution_count": 190,
   "metadata": {},
   "outputs": [],
   "source": [
    "df = pd.read_csv(table_path / 'fit_table_raw.csv', index_col=['model', 'roi', 'quantile'])\n",
    "df = df[~df.index.duplicated(keep='last')]\n",
    "df.columns.name = 'param'\n",
    "df = df.stack('param').unstack(['roi', 'quantile', 'param']).T"
   ]
  },
  {
   "cell_type": "code",
   "execution_count": 191,
   "metadata": {},
   "outputs": [],
   "source": [
    "last_week_stats = [x + f' (week {last_week})' for x in stats]\n",
    "ll_waic_loo = ['ll_', 'waic', 'loo']"
   ]
  },
  {
   "cell_type": "code",
   "execution_count": 192,
   "metadata": {},
   "outputs": [],
   "source": [
    "rois = df.index.get_level_values('roi').unique()\n",
    "\n",
    "dfs = []\n",
    "for roi in rois:\n",
    "    df.loc[(roi, 'mean', 'll_')] *= -2 # first normalize ll\n",
    "    ll_waic_loo_stats = df.loc[(roi, 'mean', ll_waic_loo)]\n",
    "    other_stats = df.loc[(roi, '0.5', last_week_stats)]\n",
    "    dfs.append(ll_waic_loo_stats)\n",
    "    dfs.append(other_stats)"
   ]
  },
  {
   "cell_type": "code",
   "execution_count": 193,
   "metadata": {},
   "outputs": [],
   "source": [
    "df_result = pd.concat(dfs)"
   ]
  },
  {
   "cell_type": "code",
   "execution_count": 194,
   "metadata": {},
   "outputs": [],
   "source": [
    "# report minimum values for ll, waic, loo\n",
    "columns = df_result.columns\n",
    "df_result = df_result.assign(minimum = df_result[columns].min(axis=1), minimum_column=df_result[columns].idxmin(axis=1))"
   ]
  },
  {
   "cell_type": "code",
   "execution_count": 195,
   "metadata": {},
   "outputs": [],
   "source": [
    "for roi in rois: # remove lowest value model values for non loo/waic/ll rows\n",
    "    df_result.loc[(roi, 'mean', last_week_stats), 'minimum_column'] = ''\n",
    "    df_result.loc[(roi, '0.5', last_week_stats), 'minimum_column'] = ''"
   ]
  },
  {
   "cell_type": "code",
   "execution_count": 196,
   "metadata": {},
   "outputs": [],
   "source": [
    "df_result.to_csv(table_path / 'model_contributions_and_median_stats.csv')"
   ]
  },
  {
   "cell_type": "code",
   "execution_count": null,
   "metadata": {},
   "outputs": [],
   "source": []
  }
 ],
 "metadata": {
  "kernelspec": {
   "display_name": "Python 3",
   "language": "python",
   "name": "python3"
  },
  "language_info": {
   "codemirror_mode": {
    "name": "ipython",
    "version": 3
   },
   "file_extension": ".py",
   "mimetype": "text/x-python",
   "name": "python",
   "nbconvert_exporter": "python",
   "pygments_lexer": "ipython3",
   "version": "3.7.9"
  }
 },
 "nbformat": 4,
 "nbformat_minor": 4
}
