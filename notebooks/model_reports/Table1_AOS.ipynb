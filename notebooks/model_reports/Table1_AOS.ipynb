{
 "cells": [
  {
   "cell_type": "code",
   "execution_count": 115,
   "metadata": {},
   "outputs": [],
   "source": [
    "%matplotlib inline\n",
    "import pandas as pd\n",
    "import matplotlib.pyplot as plt\n",
    "import numpy as np\n",
    "import seaborn as sns\n",
    "import string\n",
    "#https://stackoverflow.com/questions/19726663/how-to-save-the-pandas-dataframe-series-data-as-a-figure\n",
    "import six\n",
    "from pathlib import Path"
   ]
  },
  {
   "cell_type": "code",
   "execution_count": 116,
   "metadata": {},
   "outputs": [],
   "source": [
    "# Fix region names, remove underscore\n",
    "def fix_region_name(roi):\n",
    "    roi = roi.replace('_', ' ')\n",
    "    roi = ' '.join(roi.split(',')[::-1]).strip()\n",
    "    return roi"
   ]
  },
  {
   "cell_type": "markdown",
   "metadata": {},
   "source": [
    "## Insert table path, figures path, weekly timepoints, last week"
   ]
  },
  {
   "cell_type": "code",
   "execution_count": 118,
   "metadata": {},
   "outputs": [
    {
     "name": "stdout",
     "output_type": "stream",
     "text": [
      "Rt\n",
      "car\n",
      "ifr\n",
      "ir\n",
      "ar\n"
     ]
    }
   ],
   "source": [
    "table_path = Path('/Users/schwartzao/Desktop/workspace/covid-sicr/tables/20210311_realtime/')\n",
    "weeks = ['13', '30', '47']\n",
    "weeks_dates = ['April 19-25, 2020', 'August 16-22, 2020', 'December 13-19, 2020', 'March 1-6, 2021'] # FOR COLUMN LABELS\n",
    "\n",
    "last_week = 58 # use an int\n",
    "last_week_str = '(March 1-6, 2021)'\n",
    "\n",
    "\n",
    "df = pd.read_csv(table_path / \"fit_table_reweighted.csv\") \n",
    "\n",
    "df['roi'] = df['roi'].apply(fix_region_name)\n",
    "\n",
    "rois = list(df.roi.unique())\n",
    "\n",
    "roi_us = np.sort([i for i in rois if i[:2]=='US'])\n",
    "roi_other = np.sort([i for i in rois if i[:2]!='US'])\n",
    "\n",
    "roi_other = list(roi_other) # removing super regions for now\n",
    "roi_other = [x for x in roi_other if not x.startswith(\"AA\")]\n",
    "\n",
    "rois = list(roi_other) + list(roi_us)\n",
    "\n",
    "stats = ['Rt', 'car', 'ifr', 'ir', 'ar']\n",
    "for stat in stats:\n",
    "    print(stat)\n",
    "    df[f'{stat} {last_week_str}'] = 0\n",
    "    for roi in rois:\n",
    "        for wk in np.arange(last_week,0,-1):\n",
    "    #         print(f\"{stat} (week {wk})\")\n",
    "            if df.loc[df.roi==roi][f\"{stat} (week {wk})\"].notnull().values[0]:\n",
    "                for q in df['quantile'].unique():\n",
    "                    df.loc[(df.roi==roi)&(df['quantile']==q),[f'{stat} {last_week_str}']] = df.loc[(df.roi==roi)&(df['quantile']==q),[f\"{stat} (week {wk})\"]].values\n",
    "    #                 print(df.loc[(df.roi==roi)&(df['quantile']==q)]['Rt (May 24th)'].values)\n",
    "                break"
   ]
  },
  {
   "cell_type": "code",
   "execution_count": 111,
   "metadata": {},
   "outputs": [
    {
     "name": "stdout",
     "output_type": "stream",
     "text": [
      "['Rt (week 13)', 'Rt (week 30)', 'Rt (week 47)', 'car (week 13)', 'car (week 30)', 'car (week 47)', 'ifr (week 13)', 'ifr (week 30)', 'ifr (week 47)', 'ir (week 13)', 'ir (week 30)', 'ir (week 47)', 'ar (week 13)', 'ar (week 30)', 'ar (week 47)', 'Rt (March 1-6, 2021)', 'car (March 1-6, 2021)', 'ifr (March 1-6, 2021)', 'ir (March 1-6, 2021)', 'ar (March 1-6, 2021)']\n"
     ]
    }
   ],
   "source": [
    "theta = [stat + f' (week {week})' for stat in stats for week in weeks]\n",
    "theta_last = [stat + f' {last_week_str}' for stat in stats]\n",
    "theta_ = theta + theta_last\n",
    "\n",
    "theta_R = [x for x in theta_ if x.startswith(\"R\")]\n",
    "theta_car = [x for x in theta_ if x.startswith(\"car\")]\n",
    "theta_ifr = [x for x in theta_ if x.startswith(\"ifr\")]\n",
    "theta_ir = [x for x in theta_ if x.startswith(\"ir\")]\n",
    "theta_ar = [x for x in theta_ if x.startswith(\"ar\")]\n",
    "print(theta_)"
   ]
  },
  {
   "cell_type": "code",
   "execution_count": 114,
   "metadata": {},
   "outputs": [],
   "source": [
    "def afun1(x):\n",
    "    return '%s' % float('%.1g' %x)\n",
    "\n",
    "def afun2(x):\n",
    "    return '%s' % float('%.2g' %x)\n",
    "\n",
    "ir_col = [f\"IRt ({weeks_dates[0]}) (CI)\",\n",
    "          f\"IRt ({weeks_dates[1]}) (CI)\", \n",
    "          f\"IRt ({weeks_dates[2]}) (CI)\",\n",
    "          f\"IRt ({weeks_dates[3]}) (CI)\",\n",
    "          \n",
    "         ]\n",
    "\n",
    "r_col = [f\"R0 (CI)\",\n",
    "         f\"Rt ({weeks_dates[0]}) (CI)\", \n",
    "         f\"Rt ({weeks_dates[1]}) (CI)\",\n",
    "         f\"Rt ({weeks_dates[2]}) (CI)\",\n",
    "         f\"Rt ({weeks_dates[3]}) (CI)\"\n",
    "        ]\n",
    "car_col  = [f\"CARt ({weeks_dates[0]}) (CI)\", \n",
    "          f\"CARt ({weeks_dates[1]}) (CI)\",\n",
    "          f\"CARt ({weeks_dates[2]}) (CI)\",\n",
    "          f\"CARt ({weeks_dates[3]}) (CI)\"\n",
    "         ]\n",
    "\n",
    "ifr_col = [f\"IFRt ({weeks_dates[0]}) (CI)\", \n",
    "          f\"IFRt ({weeks_dates[1]}) (CI)\", \n",
    "          f\"IFRt ({weeks_dates[2]}) (CI)\",\n",
    "          f\"IFRt ({weeks_dates[3]}) (CI)\"\n",
    "         ]\n",
    "\n",
    "ar_col = [f\"ARt ({weeks_dates[0]}) (CI)\",\n",
    "          f\"ARt ({weeks_dates[1]}) (CI)\", \n",
    "          f\"ARt ({weeks_dates[2]}) (CI)\",\n",
    "          f\"ARt ({weeks_dates[3]}) (CI)\"\n",
    "         ]\n",
    "\n",
    "stats = ['Rt', 'car', 'ifr', 'ir', 'ar']\n",
    "\n",
    "for stat in stats:\n",
    "    if stat == 'Rt':\n",
    "        theta_stat = [x for x in theta_ if x.startswith(\"R\")]\n",
    "        theta_stat.insert(0, \"R0\")\n",
    "        col = r_col\n",
    "\n",
    "    if stat == 'car':\n",
    "        theta_stat = [x for x in theta_ if x.startswith(\"car\")]\n",
    "        col = car_col\n",
    "    if stat == 'ifr':\n",
    "        theta_stat = [x for x in theta_ if x.startswith(\"ifr\")]\n",
    "        col = ifr_col\n",
    "\n",
    "    if stat == 'ir':\n",
    "        theta_stat = [x for x in theta_ if x.startswith(\"ir\")]\n",
    "        col = ir_col\n",
    "\n",
    "    if stat == 'ar':\n",
    "        theta_stat = [x for x in theta_ if x.startswith(\"ar\")]\n",
    "        col = ar_col\n",
    "    \n",
    "    rows = []\n",
    "    for roi in rois:\n",
    "        data = []\n",
    "        data.append(roi)\n",
    "        for i in range(len(theta_stat)):\n",
    "            theta = theta_stat[i]\n",
    "\n",
    "            mu = df.loc[(df.roi==roi)&(df['quantile']=='0.5'),theta].values[0]\n",
    "            lb = df.loc[(df.roi==roi)&(df['quantile']=='0.025'),theta].values[0]\n",
    "            ub = df.loc[(df.roi==roi)&(df['quantile']=='0.975'),theta].values[0]\n",
    "            if theta[0] == 'R':\n",
    "                x = afun2(mu)+\" (\"+afun2(lb)+\", \"+afun2(ub)+\")\"\n",
    "            else:\n",
    "                x = afun1(mu)+\" (\"+afun1(lb)+\", \"+afun1(ub)+\")\"\n",
    "                \n",
    "            data.append(x)\n",
    "        rows.append(data)\n",
    "\n",
    "        df_report = pd.DataFrame(rows, columns=['Region']+col)\n",
    "        df_report.to_csv(table_path / f\"{stat}_summary.csv\", index=False)\n"
   ]
  },
  {
   "cell_type": "code",
   "execution_count": 5,
   "metadata": {},
   "outputs": [],
   "source": [
    "# def render_mpl_table(data, col_width=3.0, row_height=0.625, font_size=14,\n",
    "#                      header_color='#40466e', row_colors=['#f1f1f2', 'w'], edge_color='w',\n",
    "#                      bbox=[0, 0, 1, 1], header_columns=0,\n",
    "#                      ax=None, **kwargs):\n",
    "#     if ax is None:\n",
    "#         size = (np.array(data.shape[::-1]) + np.array([0, 1])) * np.array([col_width, row_height])\n",
    "#         fig, ax = plt.subplots(figsize=size)\n",
    "#         ax.axis('off')\n",
    "\n",
    "#     mpl_table = ax.table(cellText=data.values, bbox=bbox, colLabels=data.columns, **kwargs)\n",
    "\n",
    "#     mpl_table.auto_set_font_size(False)\n",
    "#     mpl_table.set_fontsize(font_size)\n",
    "\n",
    "#     for k, cell in six.iteritems(mpl_table._cells):\n",
    "#         cell.set_edgecolor(edge_color)\n",
    "#         if k[0] == 0 or k[1] < header_columns:\n",
    "#             cell.set_text_props(weight='bold', color='w')\n",
    "#             cell.set_facecolor(header_color)\n",
    "#         else:\n",
    "#             cell.set_facecolor(row_colors[k[0]%len(row_colors) ])\n",
    "#     return ax\n",
    "#     render_mpl_table(dfreport, header_columns=0, col_width=8.0)\n",
    "#     plt.savefig(\"../postfit_derivatives/\"+theta+\"_summary.png\")\n",
    "#     plt.clf()"
   ]
  }
 ],
 "metadata": {
  "kernelspec": {
   "display_name": "Python 3",
   "language": "python",
   "name": "python3"
  },
  "language_info": {
   "codemirror_mode": {
    "name": "ipython",
    "version": 3
   },
   "file_extension": ".py",
   "mimetype": "text/x-python",
   "name": "python",
   "nbconvert_exporter": "python",
   "pygments_lexer": "ipython3",
   "version": "3.7.9"
  }
 },
 "nbformat": 4,
 "nbformat_minor": 2
}
